import numpy as np
import pandas as pd
from sklearn.model_selection import train_test_split
from sklearn.preprocessing import MinMaxScaler
from tensorflow.keras.models import Sequential
from tensorflow.keras.layers import LSTM, Dense, Dropout
import matplotlib.pyplot as plt

# Load the dataset
df = pd.read_csv('cleaned_combined_data.csv')

# Filter only the rows where Element is 'Yield'
df = df[df['Element'] == 'Yield']

# Select relevant features and target
features = ['YEAR', 'T2M_MAX', 'T2M_MIN', 'PRECTOTCORR_SUM', 'RH2M', 'WS2M', 'GWETTOP', 'GWETROOT', 'GWETPROF']
target = 'Value'

# Create a new DataFrame with only the relevant columns
df = df[features + [target]]

# Normalize the data
scaler = MinMaxScaler()
df_scaled = scaler.fit_transform(df)

# Prepare the data for LSTM
def create_dataset(data, look_back=1):
    X, Y = [], []
    for i in range(len(data) - look_back):
        X.append(data[i:(i + look_back), :-1])
        Y.append(data[i + look_back, -1])
    return np.array(X), np.array(Y)

look_back = 3
X, Y = create_dataset(df_scaled, look_back)

# Split the data into training and testing sets
X_train, X_test, Y_train, Y_test = train_test_split(X, Y, test_size=0.2, random_state=42)

# Build the LSTM model
model = Sequential()
model.add(LSTM(50, return_sequences=True, input_shape=(X_train.shape[1], X_train.shape[2])))
model.add(Dropout(0.2))
model.add(LSTM(50, return_sequences=False))
model.add(Dropout(0.2))
model.add(Dense(1))

# Compile the model
model.compile(optimizer='adam', loss='mean_squared_error')

# Train the model
model.fit(X_train, Y_train, epochs=100, batch_size=32, validation_data=(X_test, Y_test), verbose=1)

# Make predictions
predictions = model.predict(X_test)

# Inverse transform the predictions and actual values to original scale
predictions = scaler.inverse_transform(np.concatenate((X_test[:, -1, :], predictions), axis=1))[:, -1]
Y_test_original = scaler.inverse_transform(np.concatenate((X_test[:, -1, :], Y_test.reshape(-1, 1)), axis=1))[:, -1]

# Plot the results
plt.figure(figsize=(10, 6))
plt.plot(Y_test_original, label='Actual Yield', color='blue', marker='o')
plt.plot(predictions, label='Predicted Yield', color='red', marker='x')
plt.title('Crop Yield Prediction: Actual vs Predicted')
plt.xlabel('Time Steps')
plt.ylabel('Yield')
plt.legend()
plt.grid(True)
plt.show()

# Print the predictions and actual values
for i in range(len(predictions)):
    print(f"Predicted: {predictions[i]}, Actual: {Y_test_original[i]}")
